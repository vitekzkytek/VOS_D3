{
 "cells": [
  {
   "cell_type": "code",
   "execution_count": 1,
   "metadata": {},
   "outputs": [],
   "source": [
    "import pandas as pd"
   ]
  },
  {
   "cell_type": "code",
   "execution_count": 11,
   "metadata": {},
   "outputs": [
    {
     "data": {
      "text/html": [
       "<div>\n",
       "<style scoped>\n",
       "    .dataframe tbody tr th:only-of-type {\n",
       "        vertical-align: middle;\n",
       "    }\n",
       "\n",
       "    .dataframe tbody tr th {\n",
       "        vertical-align: top;\n",
       "    }\n",
       "\n",
       "    .dataframe thead th {\n",
       "        text-align: right;\n",
       "    }\n",
       "</style>\n",
       "<table border=\"1\" class=\"dataframe\">\n",
       "  <thead>\n",
       "    <tr style=\"text-align: right;\">\n",
       "      <th></th>\n",
       "      <th>id</th>\n",
       "      <th>label</th>\n",
       "      <th>description</th>\n",
       "      <th>x</th>\n",
       "      <th>y</th>\n",
       "      <th>cluster</th>\n",
       "      <th>weight_links</th>\n",
       "      <th>weight_link_strength</th>\n",
       "      <th>weight_no_pub</th>\n",
       "      <th>score</th>\n",
       "    </tr>\n",
       "  </thead>\n",
       "  <tbody>\n",
       "    <tr>\n",
       "      <th>0</th>\n",
       "      <td>1</td>\n",
       "      <td>1</td>\n",
       "      <td>&lt;table&gt;&lt;tr&gt;&lt;td&gt;Meso-level field:&lt;/td&gt;&lt;td&gt;1&lt;/td...</td>\n",
       "      <td>-0.6420</td>\n",
       "      <td>-0.1343</td>\n",
       "      <td>2</td>\n",
       "      <td>780</td>\n",
       "      <td>3911807</td>\n",
       "      <td>198178</td>\n",
       "      <td>2006.6686</td>\n",
       "    </tr>\n",
       "    <tr>\n",
       "      <th>1</th>\n",
       "      <td>2</td>\n",
       "      <td>2</td>\n",
       "      <td>&lt;table&gt;&lt;tr&gt;&lt;td&gt;Meso-level field:&lt;/td&gt;&lt;td&gt;2&lt;/td...</td>\n",
       "      <td>0.4764</td>\n",
       "      <td>-0.4529</td>\n",
       "      <td>3</td>\n",
       "      <td>763</td>\n",
       "      <td>2196950</td>\n",
       "      <td>173214</td>\n",
       "      <td>2009.8160</td>\n",
       "    </tr>\n",
       "    <tr>\n",
       "      <th>2</th>\n",
       "      <td>3</td>\n",
       "      <td>3</td>\n",
       "      <td>&lt;table&gt;&lt;tr&gt;&lt;td&gt;Meso-level field:&lt;/td&gt;&lt;td&gt;3&lt;/td...</td>\n",
       "      <td>1.3570</td>\n",
       "      <td>0.0642</td>\n",
       "      <td>3</td>\n",
       "      <td>701</td>\n",
       "      <td>540366</td>\n",
       "      <td>153393</td>\n",
       "      <td>2009.6631</td>\n",
       "    </tr>\n",
       "    <tr>\n",
       "      <th>3</th>\n",
       "      <td>4</td>\n",
       "      <td>4</td>\n",
       "      <td>&lt;table&gt;&lt;tr&gt;&lt;td&gt;Meso-level field:&lt;/td&gt;&lt;td&gt;4&lt;/td...</td>\n",
       "      <td>0.6133</td>\n",
       "      <td>0.0874</td>\n",
       "      <td>4</td>\n",
       "      <td>773</td>\n",
       "      <td>874280</td>\n",
       "      <td>147319</td>\n",
       "      <td>2010.0063</td>\n",
       "    </tr>\n",
       "    <tr>\n",
       "      <th>4</th>\n",
       "      <td>5</td>\n",
       "      <td>5</td>\n",
       "      <td>&lt;table&gt;&lt;tr&gt;&lt;td&gt;Meso-level field:&lt;/td&gt;&lt;td&gt;5&lt;/td...</td>\n",
       "      <td>-0.1829</td>\n",
       "      <td>0.8266</td>\n",
       "      <td>1</td>\n",
       "      <td>769</td>\n",
       "      <td>606020</td>\n",
       "      <td>134547</td>\n",
       "      <td>2010.7999</td>\n",
       "    </tr>\n",
       "  </tbody>\n",
       "</table>\n",
       "</div>"
      ],
      "text/plain": [
       "   id  label                                        description       x  \\\n",
       "0   1      1  <table><tr><td>Meso-level field:</td><td>1</td... -0.6420   \n",
       "1   2      2  <table><tr><td>Meso-level field:</td><td>2</td...  0.4764   \n",
       "2   3      3  <table><tr><td>Meso-level field:</td><td>3</td...  1.3570   \n",
       "3   4      4  <table><tr><td>Meso-level field:</td><td>4</td...  0.6133   \n",
       "4   5      5  <table><tr><td>Meso-level field:</td><td>5</td... -0.1829   \n",
       "\n",
       "        y  cluster  weight_links  weight_link_strength  weight_no_pub  \\\n",
       "0 -0.1343        2           780               3911807         198178   \n",
       "1 -0.4529        3           763               2196950         173214   \n",
       "2  0.0642        3           701                540366         153393   \n",
       "3  0.0874        4           773                874280         147319   \n",
       "4  0.8266        1           769                606020         134547   \n",
       "\n",
       "       score  \n",
       "0  2006.6686  \n",
       "1  2009.8160  \n",
       "2  2009.6631  \n",
       "3  2010.0063  \n",
       "4  2010.7999  "
      ]
     },
     "execution_count": 11,
     "metadata": {},
     "output_type": "execute_result"
    }
   ],
   "source": [
    "df = pd.read_csv('data/map.txt',sep='\\t').rename({\n",
    "    'weight<Links>':'weight_links',\n",
    "    'weight<Total link strength>':'weight_link_strength',\n",
    "    'weight<No. of pub. (2000-2018)>':'weight_no_pub',\n",
    "    'score<Avg. pub. year>':'score'\n",
    "},axis=1)\n",
    "df.head()"
   ]
  },
  {
   "cell_type": "code",
   "execution_count": 17,
   "metadata": {},
   "outputs": [],
   "source": [
    "df.to_json('data/map_data.js',orient='records',lines=True)"
   ]
  },
  {
   "cell_type": "code",
   "execution_count": 23,
   "metadata": {},
   "outputs": [
    {
     "data": {
      "text/plain": [
       "-0.5097"
      ]
     },
     "execution_count": 23,
     "metadata": {},
     "output_type": "execute_result"
    }
   ],
   "source": [
    "df.y.min()"
   ]
  },
  {
   "cell_type": "code",
   "execution_count": 25,
   "metadata": {},
   "outputs": [],
   "source": [
    "df.to_excel('data.xlsx')"
   ]
  },
  {
   "cell_type": "code",
   "execution_count": 30,
   "metadata": {},
   "outputs": [
    {
     "data": {
      "text/plain": [
       "50.0"
      ]
     },
     "execution_count": 30,
     "metadata": {},
     "output_type": "execute_result"
    }
   ],
   "source": [
    "import math\n",
    "math.sqrt(df.weight_no_pub.min())\n"
   ]
  },
  {
   "cell_type": "code",
   "execution_count": 33,
   "metadata": {},
   "outputs": [
    {
     "data": {
      "text/plain": [
       "1"
      ]
     },
     "execution_count": 33,
     "metadata": {},
     "output_type": "execute_result"
    }
   ],
   "source": [
    "df.cluster.min()"
   ]
  },
  {
   "cell_type": "code",
   "execution_count": null,
   "metadata": {},
   "outputs": [],
   "source": []
  }
 ],
 "metadata": {
  "kernelspec": {
   "display_name": "Python 3",
   "language": "python",
   "name": "python3"
  },
  "language_info": {
   "codemirror_mode": {
    "name": "ipython",
    "version": 3
   },
   "file_extension": ".py",
   "mimetype": "text/x-python",
   "name": "python",
   "nbconvert_exporter": "python",
   "pygments_lexer": "ipython3",
   "version": "3.7.3"
  }
 },
 "nbformat": 4,
 "nbformat_minor": 4
}
